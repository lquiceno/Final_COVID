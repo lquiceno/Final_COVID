{
 "cells": [
  {
   "cell_type": "code",
   "execution_count": 76,
   "metadata": {},
   "outputs": [],
   "source": [
    "import numpy as np\n",
    "import matplotlib.pyplot as plt"
   ]
  },
  {
   "cell_type": "markdown",
   "metadata": {},
   "source": [
    "# Simulador COVID-19\n",
    "\n",
    "## Lucas Quiceno.\n",
    "## Carlos Betancur.\n",
    "## Física Computacional I. \n",
    "\n",
    "Frente a la pandemia que enfrentamos, el Washigton Post ha desarrollado una estrategia informativa muy novedosa en la que comparte simulaciones computacionales para mostrar como se propaga un virus en una población y como al disminuir la movilidad de los miembros de la población se desacelera el contagio de la población.\n",
    "\n",
    "El artículo en cuestión es:\n",
    "https://www.washingtonpost.com/graphics/2020/world/corona-simulator/\n",
    "\n",
    "Este proyecto consistirá en reproudcir los resultados del artículo bien sea en Python o en C++. Se requiere utilizar la programación orientada a objetos para definir los miembros de dicha población, mas sin embargo los detalles e la implementación quedan a la libre elección de cada grupo.\n",
    "\n",
    "Objetivo: Obtener gráficos similares a los obtenidos por las simulaciones del Washigton Post en cuanto a número de infectados, número de no infectados y de recuperados como función del tiempo.\n",
    "\n",
    "A desarrollar en equipos de dos personas. Recuerden las reglas de entrega de los resultados de los proyectos.\n",
    "\n",
    "Nota: No es necesario hacer la representación gráfica de la población y ver a sus miembros como bolitas moviéndose.\n",
    "\n"
   ]
  },
  {
   "cell_type": "markdown",
   "metadata": {},
   "source": [
    "## Solución\n",
    "La propuesta para solucionar el problema propuesto usando la programación orientada a objetos es realmente muy simple, se propone un radio de infección en el cual cualquier persona o partícula (punto aletario para nuestro caso)en este radio también termina enfermo, la población se encuentra adentro de una caja de tamaño arbitrario.\n",
    "\n",
    "Las variables lados de la caja, radio de infección, se definen a continuación, además, se define una población de 200 inviduos que será la población total."
   ]
  },
  {
   "cell_type": "code",
   "execution_count": 77,
   "metadata": {},
   "outputs": [],
   "source": [
    "#parametros del sistema\n",
    "rad_ifc=5 #radio de infeccion\n",
    "population=200 #numero de individuos\n",
    "x_box=200 #parametros de la caja \n",
    "y_box=200"
   ]
  },
  {
   "cell_type": "markdown",
   "metadata": {},
   "source": [
    "A continuación se define la clase que será llamada en todo el código en la cual evoluaciona la población, es de notar que se define como un objeto de la clase el cambio de dirección de las velocidades cuando un una partícula golpea en la pared de la caja y adicionalemente se usan las ecuaciones cinématicas para la velocidad.$$y=y_{0}+v_{y}t$$ $$x=x_{0}+v_{x}t$$"
   ]
  },
  {
   "cell_type": "code",
   "execution_count": 78,
   "metadata": {},
   "outputs": [],
   "source": [
    "class People: #clase madre\n",
    "\n",
    "    def __init__(self,x,y,vx,vy,ifc,rec):\n",
    "        self.X=x\n",
    "        self.Y=y\n",
    "        self.VX=vx\n",
    "        self.VY=vy\n",
    "        self.Infection=ifc\n",
    "        self.Recovery=rec\n",
    "\n",
    "\n",
    "    def pos_evol(self,t): \n",
    "        \n",
    "        if self.Y > y_box: #condiciones en y para la caja \n",
    "            self.Y = y_box\n",
    "            self.VY = -1*self.VY\n",
    "        \n",
    "        elif self.Y < 0:\n",
    "            self.Y = 0\n",
    "            self.VY = -1*self.VY\n",
    "        \n",
    "        elif self.X > x_box: #condiones en x para caja \n",
    "            self.X = x_box\n",
    "            self.VX = -1*self.VX\n",
    "        \n",
    "        elif self.X < 0:\n",
    "            self.X = 0\n",
    "            self.VX = -1*self.VX\n",
    "\n",
    "        self.X=self.X+self.VX*t #ecuaciones cinematicas \n",
    "        self.Y=self.Y+self.VY*t\n"
   ]
  },
  {
   "cell_type": "markdown",
   "metadata": {},
   "source": [
    "Se crea el que se llama paciente cero ya que es el primero en tener la enfermedd y adicionalmente se usa np.random para generar números aleatorios adentro de la caja. Es de notar que la creación de humanos como instancias de la clase."
   ]
  },
  {
   "cell_type": "code",
   "execution_count": 79,
   "metadata": {},
   "outputs": [],
   "source": [
    "#paciente cero\n",
    "\n",
    "x=x_box*np.random.random_sample() #llenar la caja con numeros aleatorios \n",
    "y=y_box*np.random.random_sample()\n",
    "vx=(2*np.random.random_sample() - 1)*0.01\n",
    "vy=(2*np.random.random_sample() - 1)*0.01\n",
    "person=[People(x,y,vx,vy,True,False)] "
   ]
  },
  {
   "cell_type": "markdown",
   "metadata": {},
   "source": [
    "Para solucionar problemas con iterción se debe poner una semilla de personas en cuarentena. Esto para evitar que el código enferme a toda la población y la alivie a toda al mismo tiempo, con el fin de solucionar este problema se pone la variable at_home que seŕa clave en el resto del codigo debido que nos dará cuenta de la de la población que se encuentra en cuarentena."
   ]
  },
  {
   "cell_type": "code",
   "execution_count": 80,
   "metadata": {},
   "outputs": [],
   "source": [
    "#resto de la poblacion\n",
    "at_home=5\n",
    "#se entan moviendo todavia\n",
    "for i in range(population-at_home):\n",
    "    x=x_box*np.random.random_sample()\n",
    "    y=y_box*np.random.random_sample()\n",
    "    vx=(2*np.random.random_sample() - 1)*0.01\n",
    "    vy=(2*np.random.random_sample() - 1)*0.01\n",
    "    person.append(People(x,y,vx,vy,False,False)) #se llama la clase People con los atributos de la caja "
   ]
  },
  {
   "cell_type": "markdown",
   "metadata": {},
   "source": [
    "En la siguiente parte del código lo que se busca es dejar al número de individuos en cuarentena con velocidad cero, es decir, estas personas al no tener movimiento no pueden cotagiar ni ser contagiados con el virus. Ya después simplemente se crean las listas que se pondrán a iterar."
   ]
  },
  {
   "cell_type": "code",
   "execution_count": 81,
   "metadata": {},
   "outputs": [],
   "source": [
    "#distancia social (estar en casa)\n",
    "for i in range(at_home):\n",
    "    x=x_box*np.random.random_sample()\n",
    "    y=y_box*np.random.random_sample()\n",
    "    vx=0\n",
    "    vy=0\n",
    "    person.append(People(x,y,vx,vy,False,False))"
   ]
  },
  {
   "cell_type": "code",
   "execution_count": 82,
   "metadata": {},
   "outputs": [],
   "source": [
    "#listas a llenar\n",
    "ifc_list=[0] \n",
    "time_list=[0]\n",
    "rec_list=[0]\n",
    "time_list2=[0]\n",
    "\n",
    "list_lists=[]\n",
    "list_lists2=[]\n"
   ]
  },
  {
   "cell_type": "code",
   "execution_count": 83,
   "metadata": {},
   "outputs": [],
   "source": [
    "#se llenan\n",
    "for i in range (population):\n",
    "  lists=[]\n",
    "  list_lists.append(lists)\n",
    "  lists2=[]\n",
    "  list_lists2.append(lists2)"
   ]
  },
  {
   "cell_type": "markdown",
   "metadata": {},
   "source": [
    "La parte mas importante del código es la siguiente. Es donde se logra hacer un recorrido por lo humanos preguntando si en efecto son portadores del virus, son recuperados o no son portadores.\n",
    "\n",
    "Se define una varibable llamada distance que no es mas que la distancia la distancia entre dos puntos en un eje cartesiano. $$ d=\\sqrt{(x_{i}-x_{j})^{2}+(y_{i}-y_{j})^{2}} $$\n",
    "\n",
    "También se nota que se imponen condicones en los if usados para que una persona este sana, recuperada o enferma y finalmente se llenan las lista creadas anteriormente con los resultados obtenidos."
   ]
  },
  {
   "cell_type": "code",
   "execution_count": 84,
   "metadata": {},
   "outputs": [],
   "source": [
    "#evolucion del sistema \n",
    "\n",
    "for j in range(1300):\n",
    "    \n",
    "    for i in range (population):\n",
    "\n",
    "        person[i].pos_evol(j)\n",
    "\n",
    "        for k in range(population):\n",
    "\n",
    "            distance = np.sqrt(((person[i].X-person[k].X)**2)+((person[i].Y-person[k].Y)**2))\n",
    "            if distance < rad_ifc and person[i].Infection == True and person[k].Infection == False and person[k].Recovery == False :\n",
    "                person[k].Infection=True\n",
    "                ifc_list.append(ifc_list[-1]+1)\n",
    "                time_list.append(j)\n",
    "\n",
    "\n",
    "        if person[i].Infection == True and person[i].Recovery == False and len(list_lists2[i]) < 300 :\n",
    "          list_lists2[i].append(1)\n",
    "          if len(list_lists2[i])  == 300 and len(list_lists[i])<1  :\n",
    "            person[i].Recovery = True\n",
    "            ifc_list.append(ifc_list[-1]-1)\n",
    "            time_list.append(j)\n",
    "            rec_list.append(rec_list[-1]+1)\n",
    "            time_list2.append(j)\n",
    "            person[i].Infection = False\n",
    "            list_lists[i].append(1)"
   ]
  },
  {
   "cell_type": "markdown",
   "metadata": {},
   "source": [
    "Se organiza la dimensión de las listas para finalmente realizar las gráficas."
   ]
  },
  {
   "cell_type": "code",
   "execution_count": 85,
   "metadata": {},
   "outputs": [],
   "source": [
    "# se organizan las listas para la grafica\n",
    "rec_array=200-np.array(rec_list)\n",
    "rec_array=np.append(rec_array,0)\n",
    "time_list2.append(1300)"
   ]
  },
  {
   "cell_type": "code",
   "execution_count": 86,
   "metadata": {},
   "outputs": [
    {
     "data": {
      "image/png": "[encoded data removed]",
      "text/plain": [
       "<Figure size 432x288 with 1 Axes>"
      ]
     },
     "metadata": {
      "needs_background": "light"
     },
     "output_type": "display_data"
    }
   ],
   "source": [
    "fig = plt.figure()\n",
    "ax = plt.axes(xlim=(0, 1300),ylim=(0, 200) )\n",
    "ax.set_facecolor('#D1CA65')\n",
    "ax.set_title('Población en libertad')\n",
    "ax.set_ylabel('Persona infectadas')\n",
    "ax.set_xlabel('Tiempo')\n",
    "plt.plot(time_list,ifc_list) \n",
    "plt.plot(time_list2,rec_array) \n",
    "plt.fill_between(time_list, ifc_list)\n",
    "plt.fill_between(time_list2, rec_array, np.max(rec_array))\n",
    "\n",
    "plt.show()"
   ]
  },
  {
   "cell_type": "markdown",
   "metadata": {},
   "source": [
    "En azul se observa la población que se enferma, se puede observar un pico muy pronunciado de la enfermedad. En amarillo oscuro a la derecha la población despues de pasar el pico de la enfermedad y finalmente en amarillo claro la población sana que termina infectada rápidamente."
   ]
  },
  {
   "cell_type": "markdown",
   "metadata": {},
   "source": [
    "# Caso 2. Cuaretena en de una parte de población.\n",
    "\n",
    "Se repite el mismo proceso de creación de personas e iteración anterior pero usando la clase definida anteriormente. La diferencia de este caso radica en que la variable at_home que, como se dijo, representala población en cuarentena ahora toma un valor de 60, es decir, 60 personas se quedan quietas o mejor, en casa."
   ]
  },
  {
   "cell_type": "code",
   "execution_count": 127,
   "metadata": {},
   "outputs": [],
   "source": [
    "#paciente cero\n",
    "\n",
    "x=x_box*np.random.random_sample() #llenar la caja con numeros aleatorios \n",
    "y=y_box*np.random.random_sample()\n",
    "vx=(2*np.random.random_sample() - 1)*0.01\n",
    "vy=(2*np.random.random_sample() - 1)*0.01\n",
    "person=[People(x,y,vx,vy,True,False)] "
   ]
  },
  {
   "cell_type": "code",
   "execution_count": 128,
   "metadata": {},
   "outputs": [],
   "source": [
    "#resto de la poblacion\n",
    "at_home=60\n",
    "#se entan moviendo todavia\n",
    "for i in range(population-at_home):\n",
    "    x=x_box*np.random.random_sample()\n",
    "    y=y_box*np.random.random_sample()\n",
    "    vx=(2*np.random.random_sample() - 1)*0.01\n",
    "    vy=(2*np.random.random_sample() - 1)*0.01\n",
    "    person.append(People(x,y,vx,vy,False,False)) #se llama la clase People con los atributos de la caja "
   ]
  },
  {
   "cell_type": "code",
   "execution_count": 129,
   "metadata": {},
   "outputs": [],
   "source": [
    "#distancia social (estar en casa)\n",
    "for i in range(at_home):\n",
    "    x=x_box*np.random.random_sample()\n",
    "    y=y_box*np.random.random_sample()\n",
    "    vx=0\n",
    "    vy=0\n",
    "    person.append(People(x,y,vx,vy,False,False))"
   ]
  },
  {
   "cell_type": "code",
   "execution_count": 130,
   "metadata": {},
   "outputs": [],
   "source": [
    "#listas a llenar\n",
    "ifc_list=[0] \n",
    "time_list=[0]\n",
    "rec_list=[0]\n",
    "time_list2=[0]\n",
    "\n",
    "list_lists=[]\n",
    "list_lists2=[]\n"
   ]
  },
  {
   "cell_type": "code",
   "execution_count": 131,
   "metadata": {},
   "outputs": [],
   "source": [
    "#se llenan\n",
    "for i in range (population):\n",
    "  lists=[]\n",
    "  list_lists.append(lists)\n",
    "  lists2=[]\n",
    "  list_lists2.append(lists2)"
   ]
  },
  {
   "cell_type": "code",
   "execution_count": 132,
   "metadata": {},
   "outputs": [],
   "source": [
    "#evolucion del sistema \n",
    "\n",
    "for j in range(1300):\n",
    "    \n",
    "    for i in range (population):\n",
    "\n",
    "        person[i].pos_evol(j)\n",
    "\n",
    "        for k in range(population):\n",
    "\n",
    "            distance = np.sqrt(((person[i].X-person[k].X)**2)+((person[i].Y-person[k].Y)**2))\n",
    "            if distance < rad_ifc and person[i].Infection == True and person[k].Infection == False and person[k].Recovery == False :\n",
    "                person[k].Infection=True\n",
    "                ifc_list.append(ifc_list[-1]+1)\n",
    "                time_list.append(j)\n",
    "\n",
    "\n",
    "        if person[i].Infection == True and person[i].Recovery == False and len(list_lists2[i]) < 300 :\n",
    "          list_lists2[i].append(1)\n",
    "          if len(list_lists2[i])  == 300 and len(list_lists[i])<1  :\n",
    "            person[i].Recovery = True\n",
    "            ifc_list.append(ifc_list[-1]-1)\n",
    "            time_list.append(j)\n",
    "            rec_list.append(rec_list[-1]+1)\n",
    "            time_list2.append(j)\n",
    "            person[i].Infection = False\n",
    "            list_lists[i].append(1)"
   ]
  },
  {
   "cell_type": "code",
   "execution_count": 133,
   "metadata": {},
   "outputs": [],
   "source": [
    "# se organizan las listas para la grafica\n",
    "rec_array=200-np.array(rec_list)\n",
    "rec_array=np.append(rec_array,0)\n",
    "time_list2.append(1300)"
   ]
  },
  {
   "cell_type": "code",
   "execution_count": 134,
   "metadata": {},
   "outputs": [
    {
     "data": {
      "image/png": "[encoded data removed]",
      "text/plain": [
       "<Figure size 432x288 with 1 Axes>"
      ]
     },
     "metadata": {
      "needs_background": "light"
     },
     "output_type": "display_data"
    }
   ],
   "source": [
    "fig = plt.figure()\n",
    "ax = plt.axes(xlim=(0, 1300),ylim=(0, 200) )\n",
    "ax.set_facecolor('#D1CA65')\n",
    "ax.set_title('Aislamiento de una parte de la poblacion.')\n",
    "ax.set_ylabel('Persona infectadas')\n",
    "ax.set_xlabel('Tiempo')\n",
    "plt.plot(time_list,ifc_list) \n",
    "plt.plot(time_list2,rec_array) \n",
    "plt.fill_between(time_list, ifc_list)\n",
    "plt.fill_between(time_list2, rec_array, np.max(rec_array))\n",
    "\n",
    "plt.show()"
   ]
  },
  {
   "cell_type": "markdown",
   "metadata": {},
   "source": [
    "En azul se observa la población que se enferma, se puede observar un pico muy pronunciado de la enfermedad, pero un poco menos que el anterior. En amarillo oscuro a la derecha la población despues de pasar el pico de la enfermedad y finalmente en amarillo claro la población sana que termina infectada rápidamente, pero no tan rápido como antes."
   ]
  },
  {
   "cell_type": "markdown",
   "metadata": {},
   "source": [
    "## Caso 3. 3/4 de la población en cuarentena.\n",
    "\n",
    "Se repite el mismo proceso de creación de personas e iteración anterior pero usando la clase definida anteriormente. La diferencia aquí es que la variable at_home ahora toma un valor de 175, es decir, 175 personas se quedan quietas o mejor, en casa. Si se toma la varibale en 150 no se observa mucho cambio y la idea es observa cierto cambio, por esto se toma la variable de esta forma."
   ]
  },
  {
   "cell_type": "code",
   "execution_count": 111,
   "metadata": {},
   "outputs": [],
   "source": [
    "#paciente cero\n",
    "\n",
    "x=x_box*np.random.random_sample() #llenar la caja con numeros aleatorios \n",
    "y=y_box*np.random.random_sample()\n",
    "vx=(2*np.random.random_sample() - 1)*0.01\n",
    "vy=(2*np.random.random_sample() - 1)*0.01\n",
    "person=[People(x,y,vx,vy,True,False)] "
   ]
  },
  {
   "cell_type": "code",
   "execution_count": 112,
   "metadata": {},
   "outputs": [],
   "source": [
    "#resto de la poblacion\n",
    "at_home=175\n",
    "#se entan moviendo todavia\n",
    "for i in range(population-at_home):\n",
    "    x=x_box*np.random.random_sample()\n",
    "    y=y_box*np.random.random_sample()\n",
    "    vx=(2*np.random.random_sample() - 1)*0.01\n",
    "    vy=(2*np.random.random_sample() - 1)*0.01\n",
    "    person.append(People(x,y,vx,vy,False,False)) #se llama la clase People con los atributos de la caja "
   ]
  },
  {
   "cell_type": "code",
   "execution_count": 113,
   "metadata": {},
   "outputs": [],
   "source": [
    "#distancia social (estar en casa)\n",
    "for i in range(at_home):\n",
    "    x=x_box*np.random.random_sample()\n",
    "    y=y_box*np.random.random_sample()\n",
    "    vx=0\n",
    "    vy=0\n",
    "    person.append(People(x,y,vx,vy,False,False))"
   ]
  },
  {
   "cell_type": "code",
   "execution_count": 114,
   "metadata": {},
   "outputs": [],
   "source": [
    "#listas a llenar\n",
    "ifc_list=[0] \n",
    "time_list=[0]\n",
    "rec_list=[0]\n",
    "time_list2=[0]\n",
    "\n",
    "list_lists=[]\n",
    "list_lists2=[]\n"
   ]
  },
  {
   "cell_type": "code",
   "execution_count": 115,
   "metadata": {},
   "outputs": [],
   "source": [
    "#se llenan\n",
    "for i in range (population):\n",
    "  lists=[]\n",
    "  list_lists.append(lists)\n",
    "  lists2=[]\n",
    "  list_lists2.append(lists2)"
   ]
  },
  {
   "cell_type": "code",
   "execution_count": 116,
   "metadata": {},
   "outputs": [],
   "source": [
    "#evolucion del sistema \n",
    "\n",
    "for j in range(1300):\n",
    "    \n",
    "    for i in range (population):\n",
    "\n",
    "        person[i].pos_evol(j)\n",
    "\n",
    "        for k in range(population):\n",
    "\n",
    "            distance = np.sqrt(((person[i].X-person[k].X)**2)+((person[i].Y-person[k].Y)**2))\n",
    "            if distance < rad_ifc and person[i].Infection == True and person[k].Infection == False and person[k].Recovery == False :\n",
    "                person[k].Infection=True\n",
    "                ifc_list.append(ifc_list[-1]+1)\n",
    "                time_list.append(j)\n",
    "\n",
    "\n",
    "        if person[i].Infection == True and person[i].Recovery == False and len(list_lists2[i]) < 300 :\n",
    "          list_lists2[i].append(1)\n",
    "          if len(list_lists2[i])  == 300 and len(list_lists[i])<1  :\n",
    "            person[i].Recovery = True\n",
    "            ifc_list.append(ifc_list[-1]-1)\n",
    "            time_list.append(j)\n",
    "            rec_list.append(rec_list[-1]+1)\n",
    "            time_list2.append(j)\n",
    "            person[i].Infection = False\n",
    "            list_lists[i].append(1)"
   ]
  },
  {
   "cell_type": "code",
   "execution_count": 117,
   "metadata": {},
   "outputs": [],
   "source": [
    "# se organizan las listas para la grafica\n",
    "rec_array=200-np.array(rec_list)\n",
    "rec_array=np.append(rec_array,0)\n",
    "time_list2.append(1300)"
   ]
  },
  {
   "cell_type": "code",
   "execution_count": 118,
   "metadata": {},
   "outputs": [
    {
     "data": {
      "image/png": "[encoded data removed]",
      "text/plain": [
       "<Figure size 432x288 with 1 Axes>"
      ]
     },
     "metadata": {
      "needs_background": "light"
     },
     "output_type": "display_data"
    }
   ],
   "source": [
    "fig = plt.figure()\n",
    "ax = plt.axes(xlim=(0, 1300),ylim=(0, 200) )\n",
    "ax.set_facecolor('#D1CA65')\n",
    "ax.set_title('Aislamiento de 3/4 de la poblacion.')\n",
    "ax.set_ylabel('Persona infectadas')\n",
    "ax.set_xlabel('Tiempo')\n",
    "plt.plot(time_list,ifc_list) \n",
    "plt.plot(time_list2,rec_array) \n",
    "plt.fill_between(time_list, ifc_list)\n",
    "plt.fill_between(time_list2, rec_array, np.max(rec_array))\n",
    "\n",
    "plt.show()"
   ]
  },
  {
   "cell_type": "markdown",
   "metadata": {},
   "source": [
    "En azul la población que se enferma con un pico menos pronunciado de la enfermedad. En amarillo oscuro a la derecha la población despues de pasar el pico de la enfermedad y finalmente en amarillo claro la población sana que termina infectada."
   ]
  },
  {
   "cell_type": "markdown",
   "metadata": {},
   "source": [
    "## Caso 4. 7/8 de la población en cuarentena.\n",
    "\n",
    "Igual que antes con la creación de personas e iteración. Aquí la variable at_home ahora toma un valor de 190, es decir, 190 personas se quedan quietas o mejor. Si se toma la varibale en 175 no se observa el cambio deseado, por esto se toma la variable de esta forma."
   ]
  },
  {
   "cell_type": "code",
   "execution_count": 119,
   "metadata": {},
   "outputs": [],
   "source": [
    "#paciente cero\n",
    "\n",
    "x=x_box*np.random.random_sample() #llenar la caja con numeros aleatorios \n",
    "y=y_box*np.random.random_sample()\n",
    "vx=(2*np.random.random_sample() - 1)*0.01\n",
    "vy=(2*np.random.random_sample() - 1)*0.01\n",
    "person=[People(x,y,vx,vy,True,False)] "
   ]
  },
  {
   "cell_type": "code",
   "execution_count": 120,
   "metadata": {},
   "outputs": [],
   "source": [
    "#resto de la poblacion\n",
    "at_home=190\n",
    "#se entan moviendo todavia\n",
    "for i in range(population-at_home):\n",
    "    x=x_box*np.random.random_sample()\n",
    "    y=y_box*np.random.random_sample()\n",
    "    vx=(2*np.random.random_sample() - 1)*0.01\n",
    "    vy=(2*np.random.random_sample() - 1)*0.01\n",
    "    person.append(People(x,y,vx,vy,False,False)) #se llama la clase People con los atributos de la caja "
   ]
  },
  {
   "cell_type": "code",
   "execution_count": 121,
   "metadata": {},
   "outputs": [],
   "source": [
    "#distancia social (estar en casa)\n",
    "for i in range(at_home):\n",
    "    x=x_box*np.random.random_sample()\n",
    "    y=y_box*np.random.random_sample()\n",
    "    vx=0\n",
    "    vy=0\n",
    "    person.append(People(x,y,vx,vy,False,False))"
   ]
  },
  {
   "cell_type": "code",
   "execution_count": 122,
   "metadata": {},
   "outputs": [],
   "source": [
    "#listas a llenar\n",
    "ifc_list=[0] \n",
    "time_list=[0]\n",
    "rec_list=[0]\n",
    "time_list2=[0]\n",
    "\n",
    "list_lists=[]\n",
    "list_lists2=[]\n"
   ]
  },
  {
   "cell_type": "code",
   "execution_count": 123,
   "metadata": {},
   "outputs": [],
   "source": [
    "#se llenan\n",
    "for i in range (population):\n",
    "  lists=[]\n",
    "  list_lists.append(lists)\n",
    "  lists2=[]\n",
    "  list_lists2.append(lists2)"
   ]
  },
  {
   "cell_type": "code",
   "execution_count": 124,
   "metadata": {},
   "outputs": [],
   "source": [
    "#evolucion del sistema \n",
    "\n",
    "for j in range(1300):\n",
    "    \n",
    "    for i in range (population):\n",
    "\n",
    "        person[i].pos_evol(j)\n",
    "\n",
    "        for k in range(population):\n",
    "\n",
    "            distance = np.sqrt(((person[i].X-person[k].X)**2)+((person[i].Y-person[k].Y)**2))\n",
    "            if distance < rad_ifc and person[i].Infection == True and person[k].Infection == False and person[k].Recovery == False :\n",
    "                person[k].Infection=True\n",
    "                ifc_list.append(ifc_list[-1]+1)\n",
    "                time_list.append(j)\n",
    "\n",
    "\n",
    "        if person[i].Infection == True and person[i].Recovery == False and len(list_lists2[i]) < 300 :\n",
    "          list_lists2[i].append(1)\n",
    "          if len(list_lists2[i])  == 300 and len(list_lists[i])<1  :\n",
    "            person[i].Recovery = True\n",
    "            ifc_list.append(ifc_list[-1]-1)\n",
    "            time_list.append(j)\n",
    "            rec_list.append(rec_list[-1]+1)\n",
    "            time_list2.append(j)\n",
    "            person[i].Infection = False\n",
    "            list_lists[i].append(1)"
   ]
  },
  {
   "cell_type": "code",
   "execution_count": 125,
   "metadata": {},
   "outputs": [],
   "source": [
    "# se organizan las listas para la grafica\n",
    "rec_array=200-np.array(rec_list)\n",
    "rec_array=np.append(rec_array,0)\n",
    "time_list2.append(1300)"
   ]
  },
  {
   "cell_type": "code",
   "execution_count": 126,
   "metadata": {},
   "outputs": [
    {
     "data": {
      "image/png": "[encoded data removed]",
      "text/plain": [
       "<Figure size 432x288 with 1 Axes>"
      ]
     },
     "metadata": {
      "needs_background": "light"
     },
     "output_type": "display_data"
    }
   ],
   "source": [
    "fig = plt.figure()\n",
    "ax = plt.axes(xlim=(0, 1300),ylim=(0, 200) )\n",
    "ax.set_facecolor('#D1CA65')\n",
    "ax.set_title('Aislamiento de 7/8 de la poblacion.')\n",
    "ax.set_ylabel('Persona infectadas')\n",
    "ax.set_xlabel('Tiempo')\n",
    "plt.plot(time_list,ifc_list) \n",
    "plt.plot(time_list2,rec_array) \n",
    "plt.fill_between(time_list, ifc_list)\n",
    "plt.fill_between(time_list2, rec_array, np.max(rec_array))\n",
    "\n",
    "plt.show()"
   ]
  },
  {
   "cell_type": "markdown",
   "metadata": {},
   "source": [
    "En azul la población enferma con un pico mucho menos pronunciado de la enfermedad. En amarillo oscuro a la derecha la población despues de pasar el pico de la enfermedad y finalmente en amarillo claro la población sana que termina infectada.\\\n",
    "Aquí es evidente que la cuarentena desacelera la propagación de la enfermedad y por lo tanto se tienen menos contagios y mas lentos lo que permite que no se colapse el sistema de salud y se cuiden más vidas."
   ]
  },
  {
   "cell_type": "markdown",
   "metadata": {},
   "source": [
    "## Conclusiones.\n",
    "\n",
    "El código funciona bien y da resultados similiares a los esperados que son los obtenidos por el Washigton Post.\\\n",
    "El código es demasiado lento al compilar lo que lo hace poco práctico.\\\n",
    "Se puede mejorar la velocidad de ejecución o la forma en que interactúan las personas en la caja, lo que permitiría obtener mejores curvas, ya que en las dos primeras gráficas no se ve gran diferencia, la diferencia se nota después de la tercera y se obtiene un excelente resultado ya en la cuarta gráfica."
   ]
  }
 ],
 "metadata": {
  "kernelspec": {
   "display_name": "Python 3",
   "language": "python",
   "name": "python3"
  },
  "language_info": {
   "codemirror_mode": {
    "name": "ipython",
    "version": 3
   },
   "file_extension": ".py",
   "mimetype": "text/x-python",
   "name": "python",
   "nbconvert_exporter": "python",
   "pygments_lexer": "ipython3",
   "version": "3.7.4"
  }
 },
 "nbformat": 4,
 "nbformat_minor": 2
}
